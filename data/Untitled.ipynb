{
 "cells": [
  {
   "cell_type": "code",
   "execution_count": 1,
   "id": "compliant-portugal",
   "metadata": {},
   "outputs": [],
   "source": [
    "import pandas as pd\n",
    "import glob"
   ]
  },
  {
   "cell_type": "code",
   "execution_count": 6,
   "id": "compliant-compatibility",
   "metadata": {},
   "outputs": [],
   "source": [
    "all_results = glob.glob(\"Member of the City Council*.tsv\")\n",
    "all_supplements = glob.glob(\"Supplement*.tsv\")"
   ]
  },
  {
   "cell_type": "code",
   "execution_count": 65,
   "id": "hawaiian-quarter",
   "metadata": {},
   "outputs": [],
   "source": [
    "dfs = []\n",
    "\n",
    "for f1, f2 in zip(sorted(all_results), sorted(all_supplements)):\n",
    "  df = pd.read_csv(f1, sep='\\t')\n",
    "  df2 = pd.read_csv(f2, sep='\\t')\n",
    "  #district\treg_dems\tprecincts\treporting\tvotes\ttotal\tcandidate\n",
    "  \n",
    "  precincts = len(df)\n",
    "  tmp = ((df.reporting.str.strip('%')).astype(float)/100)\n",
    "  reporting = len(tmp[tmp > 0])\n",
    "  total = int(df.total.sum())\n",
    "  district = f2.split(\" - \")[1].split(\".\")[0]\n",
    "  reg_dems = df2.total_reg_dems.sum()\n",
    "  \n",
    "  candidate_cols = df.columns[df.columns.str.contains(\"candidate\\|\")]\n",
    "  candidate_order = [c.replace(\"candidate|\", \"\") for c in candidate_cols]\n",
    "  \n",
    "  summary = pd.melt(df, value_vars=candidate_cols, value_name=\"votes\", var_name=\"candidate\").groupby(\"candidate\").sum().reset_index()\n",
    "  summary.candidate = [c.replace(\"candidate|\", \"\") for c in summary.candidate]\n",
    "  summary[\"district\"] = district\n",
    "  summary[\"reg_dems\"] = reg_dems\n",
    "  summary[\"precincts\"] = precincts\n",
    "  summary[\"reporting\"] = reporting\n",
    "  summary[\"total\"] = total\n",
    "  summary.votes = summary.votes.astype(int)\n",
    "  \n",
    "  \n",
    "  sorterIndex = dict(zip(candidate_order, range(len(candidate_order))))\n",
    "  summary['rank'] = summary['candidate'].map(sorterIndex)\n",
    "  summary.sort_values(\"rank\", inplace=True)\n",
    "  summary.drop(\"rank\", axis=1, inplace=True)\n",
    "  dfs.append(summary)\n",
    "  \n",
    "final = pd.concat(dfs, ignore_index=True)"
   ]
  },
  {
   "cell_type": "code",
   "execution_count": 69,
   "id": "dramatic-weekend",
   "metadata": {},
   "outputs": [],
   "source": [
    "final.to_csv(\"2021/summary.tsv\", sep='\\t', index=False)"
   ]
  },
  {
   "cell_type": "code",
   "execution_count": null,
   "id": "therapeutic-handling",
   "metadata": {},
   "outputs": [],
   "source": []
  }
 ],
 "metadata": {
  "kernelspec": {
   "display_name": "Python 3",
   "language": "python",
   "name": "python3"
  },
  "language_info": {
   "codemirror_mode": {
    "name": "ipython",
    "version": 3
   },
   "file_extension": ".py",
   "mimetype": "text/x-python",
   "name": "python",
   "nbconvert_exporter": "python",
   "pygments_lexer": "ipython3",
   "version": "3.8.2"
  }
 },
 "nbformat": 4,
 "nbformat_minor": 5
}
